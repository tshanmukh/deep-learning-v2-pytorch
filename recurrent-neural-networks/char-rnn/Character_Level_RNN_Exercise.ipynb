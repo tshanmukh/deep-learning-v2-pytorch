{
 "cells": [
  {
   "cell_type": "markdown",
   "metadata": {},
   "source": [
    "# Character-Level LSTM in PyTorch\n",
    "\n",
    "In this notebook, I'll construct a character-level LSTM with PyTorch. The network will train character by character on some text, then generate new text character by character. As an example, I will train on Anna Karenina. **This model will be able to generate new text based on the text from the book!**\n",
    "\n",
    "This network is based off of Andrej Karpathy's [post on RNNs](http://karpathy.github.io/2015/05/21/rnn-effectiveness/) and [implementation in Torch](https://github.com/karpathy/char-rnn). Below is the general architecture of the character-wise RNN.\n",
    "\n",
    "<img src=\"assets/charseq.jpeg\" width=\"500\">"
   ]
  },
  {
   "cell_type": "markdown",
   "metadata": {},
   "source": [
    "First let's load in our required resources for data loading and model creation."
   ]
  },
  {
   "cell_type": "code",
   "execution_count": 1,
   "metadata": {},
   "outputs": [],
   "source": [
    "import numpy as np\n",
    "import torch\n",
    "from torch import nn\n",
    "import torch.nn.functional as F"
   ]
  },
  {
   "cell_type": "markdown",
   "metadata": {},
   "source": [
    "## Load in Data\n",
    "\n",
    "Then, we'll load the Anna Karenina text file and convert it into integers for our network to use. "
   ]
  },
  {
   "cell_type": "code",
   "execution_count": 2,
   "metadata": {},
   "outputs": [],
   "source": [
    "# open text file and read in data as `text`\n",
    "with open('data/anna.txt', 'r') as f:\n",
    "    text = f.read()"
   ]
  },
  {
   "cell_type": "markdown",
   "metadata": {},
   "source": [
    "Let's check out the first 100 characters, make sure everything is peachy. According to the [American Book Review](http://americanbookreview.org/100bestlines.asp), this is the 6th best first line of a book ever."
   ]
  },
  {
   "cell_type": "code",
   "execution_count": 3,
   "metadata": {},
   "outputs": [
    {
     "data": {
      "text/plain": [
       "'Chapter 1\\n\\n\\nHappy families are all alike; every unhappy family is unhappy in its own\\nway.\\n\\nEverythin'"
      ]
     },
     "execution_count": 3,
     "metadata": {},
     "output_type": "execute_result"
    }
   ],
   "source": [
    "text[:100]"
   ]
  },
  {
   "cell_type": "markdown",
   "metadata": {},
   "source": [
    "### Tokenization\n",
    "\n",
    "In the cells, below, I'm creating a couple **dictionaries** to convert the characters to and from integers. Encoding the characters as integers makes it easier to use as input in the network."
   ]
  },
  {
   "cell_type": "code",
   "execution_count": 4,
   "metadata": {},
   "outputs": [
    {
     "name": "stdout",
     "output_type": "stream",
     "text": [
      "('H', 'a', 'S', 'b', 'U', '4', 'c', 'X', 'L', 'P', \"'\", 'l', 'k', 'Y', 'V', '(', 'B', '?', 'E', '6', '-', '.', 'O', 'K', 'd', 'C', 'T', 'G', ')', '&', 'w', 'p', 'u', 'm', 'N', 'f', 'x', 'e', 'R', '\\n', '5', '7', 'Z', 'J', '%', '$', ':', 'Q', 'r', '`', '0', 'j', 'h', 's', 't', '!', 'n', '@', '1', 'W', '\"', 'g', 'i', 'A', 'D', 'z', 'q', 'M', 'I', '2', '/', '9', '3', 'o', '8', '_', ',', '*', 'v', 'y', 'F', ' ', ';')\n",
      "{0: 'H', 1: 'a', 2: 'S', 3: 'b', 4: 'U', 5: '4', 6: 'c', 7: 'X', 8: 'L', 9: 'P', 10: \"'\", 11: 'l', 12: 'k', 13: 'Y', 14: 'V', 15: '(', 16: 'B', 17: '?', 18: 'E', 19: '6', 20: '-', 21: '.', 22: 'O', 23: 'K', 24: 'd', 25: 'C', 26: 'T', 27: 'G', 28: ')', 29: '&', 30: 'w', 31: 'p', 32: 'u', 33: 'm', 34: 'N', 35: 'f', 36: 'x', 37: 'e', 38: 'R', 39: '\\n', 40: '5', 41: '7', 42: 'Z', 43: 'J', 44: '%', 45: '$', 46: ':', 47: 'Q', 48: 'r', 49: '`', 50: '0', 51: 'j', 52: 'h', 53: 's', 54: 't', 55: '!', 56: 'n', 57: '@', 58: '1', 59: 'W', 60: '\"', 61: 'g', 62: 'i', 63: 'A', 64: 'D', 65: 'z', 66: 'q', 67: 'M', 68: 'I', 69: '2', 70: '/', 71: '9', 72: '3', 73: 'o', 74: '8', 75: '_', 76: ',', 77: '*', 78: 'v', 79: 'y', 80: 'F', 81: ' ', 82: ';'}\n",
      "{'H': 0, 'a': 1, 'S': 2, 'b': 3, 'U': 4, '4': 5, 'c': 6, 'X': 7, 'L': 8, 'P': 9, \"'\": 10, 'l': 11, 'k': 12, 'Y': 13, 'V': 14, '(': 15, 'B': 16, '?': 17, 'E': 18, '6': 19, '-': 20, '.': 21, 'O': 22, 'K': 23, 'd': 24, 'C': 25, 'T': 26, 'G': 27, ')': 28, '&': 29, 'w': 30, 'p': 31, 'u': 32, 'm': 33, 'N': 34, 'f': 35, 'x': 36, 'e': 37, 'R': 38, '\\n': 39, '5': 40, '7': 41, 'Z': 42, 'J': 43, '%': 44, '$': 45, ':': 46, 'Q': 47, 'r': 48, '`': 49, '0': 50, 'j': 51, 'h': 52, 's': 53, 't': 54, '!': 55, 'n': 56, '@': 57, '1': 58, 'W': 59, '\"': 60, 'g': 61, 'i': 62, 'A': 63, 'D': 64, 'z': 65, 'q': 66, 'M': 67, 'I': 68, '2': 69, '/': 70, '9': 71, '3': 72, 'o': 73, '8': 74, '_': 75, ',': 76, '*': 77, 'v': 78, 'y': 79, 'F': 80, ' ': 81, ';': 82}\n"
     ]
    }
   ],
   "source": [
    "# encode the text and map each character to an integer and vice versa\n",
    "\n",
    "# we create two dictionaries:\n",
    "# 1. int2char, which maps integers to characters\n",
    "# 2. char2int, which maps characters to unique integers\n",
    "chars = tuple(set(text))\n",
    "print(chars)\n",
    "int2char = dict(enumerate(chars))\n",
    "print(int2char)\n",
    "char2int = {ch: ii for ii, ch in int2char.items()}\n",
    "print(char2int)\n",
    "# encode the text\n",
    "encoded = np.array([char2int[ch] for ch in text])"
   ]
  },
  {
   "cell_type": "markdown",
   "metadata": {},
   "source": [
    "And we can see those same characters from above, encoded as integers."
   ]
  },
  {
   "cell_type": "code",
   "execution_count": 5,
   "metadata": {},
   "outputs": [
    {
     "data": {
      "text/plain": [
       "array([25, 52,  1, 31, 54, 37, 48, 81, 58, 39, 39, 39,  0,  1, 31, 31, 79,\n",
       "       81, 35,  1, 33, 62, 11, 62, 37, 53, 81,  1, 48, 37, 81,  1, 11, 11,\n",
       "       81,  1, 11, 62, 12, 37, 82, 81, 37, 78, 37, 48, 79, 81, 32, 56, 52,\n",
       "        1, 31, 31, 79, 81, 35,  1, 33, 62, 11, 79, 81, 62, 53, 81, 32, 56,\n",
       "       52,  1, 31, 31, 79, 81, 62, 56, 81, 62, 54, 53, 81, 73, 30, 56, 39,\n",
       "       30,  1, 79, 21, 39, 39, 18, 78, 37, 48, 79, 54, 52, 62, 56])"
      ]
     },
     "execution_count": 5,
     "metadata": {},
     "output_type": "execute_result"
    }
   ],
   "source": [
    "encoded[:100]"
   ]
  },
  {
   "cell_type": "markdown",
   "metadata": {},
   "source": [
    "## Pre-processing the data\n",
    "\n",
    "As you can see in our char-RNN image above, our LSTM expects an input that is **one-hot encoded** meaning that each character is converted into an integer (via our created dictionary) and *then* converted into a column vector where only it's corresponding integer index will have the value of 1 and the rest of the vector will be filled with 0's. Since we're one-hot encoding the data, let's make a function to do that!\n"
   ]
  },
  {
   "cell_type": "code",
   "execution_count": 6,
   "metadata": {},
   "outputs": [],
   "source": [
    "def one_hot_encode(arr, n_labels):\n",
    "    \n",
    "    # Initialize the the encoded array\n",
    "    one_hot = np.zeros((np.multiply(*arr.shape), n_labels), dtype=np.float32)\n",
    "    \n",
    "    # Fill the appropriate elements with ones\n",
    "    one_hot[np.arange(one_hot.shape[0]), arr.flatten()] = 1.\n",
    "    \n",
    "    # Finally reshape it to get back to the original array\n",
    "    one_hot = one_hot.reshape((*arr.shape, n_labels))\n",
    "    \n",
    "    return one_hot"
   ]
  },
  {
   "cell_type": "code",
   "execution_count": 7,
   "metadata": {},
   "outputs": [
    {
     "name": "stdout",
     "output_type": "stream",
     "text": [
      "[[[ 0.  0.  0.  1.  0.  0.  0.  0.]\n",
      "  [ 0.  0.  0.  0.  0.  1.  0.  0.]\n",
      "  [ 0.  1.  0.  0.  0.  0.  0.  0.]]]\n"
     ]
    }
   ],
   "source": [
    "# check that the function works as expected\n",
    "test_seq = np.array([[3, 5, 1]])\n",
    "one_hot = one_hot_encode(test_seq, 8)\n",
    "\n",
    "print(one_hot)"
   ]
  },
  {
   "cell_type": "markdown",
   "metadata": {},
   "source": [
    "## Making training mini-batches\n",
    "\n",
    "\n",
    "To train on this data, we also want to create mini-batches for training. Remember that we want our batches to be multiple sequences of some desired number of sequence steps. Considering a simple example, our batches would look like this:\n",
    "\n",
    "<img src=\"assets/sequence_batching@1x.png\" width=500px>\n",
    "\n",
    "\n",
    "<br>\n",
    "\n",
    "In this example, we'll take the encoded characters (passed in as the `arr` parameter) and split them into multiple sequences, given by `batch_size`. Each of our sequences will be `seq_length` long.\n",
    "\n",
    "### Creating Batches\n",
    "\n",
    "**1. The first thing we need to do is discard some of the text so we only have completely full mini-batches. **\n",
    "\n",
    "Each batch contains $N \\times M$ characters, where $N$ is the batch size (the number of sequences in a batch) and $M$ is the seq_length or number of time steps in a sequence. Then, to get the total number of batches, $K$, that we can make from the array `arr`, you divide the length of `arr` by the number of characters per batch. Once you know the number of batches, you can get the total number of characters to keep from `arr`, $N * M * K$.\n",
    "\n",
    "**2. After that, we need to split `arr` into $N$ batches. ** \n",
    "\n",
    "You can do this using `arr.reshape(size)` where `size` is a tuple containing the dimensions sizes of the reshaped array. We know we want $N$ sequences in a batch, so let's make that the size of the first dimension. For the second dimension, you can use `-1` as a placeholder in the size, it'll fill up the array with the appropriate data for you. After this, you should have an array that is $N \\times (M * K)$.\n",
    "\n",
    "**3. Now that we have this array, we can iterate through it to get our mini-batches. **\n",
    "\n",
    "The idea is each batch is a $N \\times M$ window on the $N \\times (M * K)$ array. For each subsequent batch, the window moves over by `seq_length`. We also want to create both the input and target arrays. Remember that the targets are just the inputs shifted over by one character. The way I like to do this window is use `range` to take steps of size `n_steps` from $0$ to `arr.shape[1]`, the total number of tokens in each sequence. That way, the integers you get from `range` always point to the start of a batch, and each window is `seq_length` wide.\n",
    "\n",
    "> **TODO:** Write the code for creating batches in the function below. The exercises in this notebook _will not be easy_. I've provided a notebook with solutions alongside this notebook. If you get stuck, checkout the solutions. The most important thing is that you don't copy and paste the code into here, **type out the solution code yourself.**"
   ]
  },
  {
   "cell_type": "code",
   "execution_count": 8,
   "metadata": {},
   "outputs": [],
   "source": [
    "def get_batches(arr, batch_size, seq_length):\n",
    "    '''Create a generator that returns batches of size\n",
    "       batch_size x seq_length from arr.\n",
    "       \n",
    "       Arguments\n",
    "       ---------\n",
    "       arr: Array you want to make batches from\n",
    "       batch_size: Batch size, the number of sequences per batch\n",
    "       seq_length: Number of encoded chars in a sequence\n",
    "    '''\n",
    "    \n",
    "    batch_size_total = batch_size*seq_length\n",
    "    ## TODO: Get the number of batches we can make\n",
    "    n_batches = len(arr)//batch_size_total\n",
    "    \n",
    "    ## TODO: Keep only enough characters to make full batches\n",
    "    arr = arr[:n_batches*batch_size_total]\n",
    "    \n",
    "    ## TODO: Reshape into batch_size rows\n",
    "    arr = arr.reshape((batch_size,-1))\n",
    "    \n",
    "    ## TODO: Iterate over the batches using a window of size seq_length\n",
    "    for n in range(0, arr.shape[1], seq_length):\n",
    "        # The features\n",
    "        x = arr[:,n:n+seq_length]\n",
    "        # The targets, shifted by one\n",
    "        y = np.zeros_like(x)\n",
    "        try:\n",
    "            y[:,:-1], y[:,-1] = x[:,1:], arr[:,n+seq_length]\n",
    "        except IndexError:\n",
    "            y[:,:-1], y[:,-1] = x[:,1:], arr[:,0]\n",
    "        yield x, y"
   ]
  },
  {
   "cell_type": "markdown",
   "metadata": {},
   "source": [
    "### Test Your Implementation\n",
    "\n",
    "Now I'll make some data sets and we can check out what's going on as we batch data. Here, as an example, I'm going to use a batch size of 8 and 50 sequence steps."
   ]
  },
  {
   "cell_type": "code",
   "execution_count": 9,
   "metadata": {},
   "outputs": [],
   "source": [
    "batches = get_batches(encoded, 8, 50)\n",
    "x, y = next(batches)"
   ]
  },
  {
   "cell_type": "code",
   "execution_count": 10,
   "metadata": {},
   "outputs": [
    {
     "name": "stdout",
     "output_type": "stream",
     "text": [
      "x\n",
      " [[25 52  1 31 54 37 48 81 58 39]\n",
      " [53 73 56 81 54 52  1 54 81  1]\n",
      " [37 56 24 81 73 48 81  1 81 35]\n",
      " [53 81 54 52 37 81  6 52 62 37]\n",
      " [81 53  1 30 81 52 37 48 81 54]\n",
      " [ 6 32 53 53 62 73 56 81  1 56]\n",
      " [81 63 56 56  1 81 52  1 24 81]\n",
      " [22  3 11 73 56 53 12 79 21 81]]\n",
      "\n",
      "y\n",
      " [[52  1 31 54 37 48 81 58 39 39]\n",
      " [73 56 81 54 52  1 54 81  1 54]\n",
      " [56 24 81 73 48 81  1 81 35 73]\n",
      " [81 54 52 37 81  6 52 62 37 35]\n",
      " [53  1 30 81 52 37 48 81 54 37]\n",
      " [32 53 53 62 73 56 81  1 56 24]\n",
      " [63 56 56  1 81 52  1 24 81 53]\n",
      " [ 3 11 73 56 53 12 79 21 81 60]]\n"
     ]
    }
   ],
   "source": [
    "# printing out the first 10 items in a sequence\n",
    "print('x\\n', x[:10, :10])\n",
    "print('\\ny\\n', y[:10, :10])"
   ]
  },
  {
   "cell_type": "markdown",
   "metadata": {},
   "source": [
    "If you implemented `get_batches` correctly, the above output should look something like \n",
    "```\n",
    "x\n",
    " [[25  8 60 11 45 27 28 73  1  2]\n",
    " [17  7 20 73 45  8 60 45 73 60]\n",
    " [27 20 80 73  7 28 73 60 73 65]\n",
    " [17 73 45  8 27 73 66  8 46 27]\n",
    " [73 17 60 12 73  8 27 28 73 45]\n",
    " [66 64 17 17 46  7 20 73 60 20]\n",
    " [73 76 20 20 60 73  8 60 80 73]\n",
    " [47 35 43  7 20 17 24 50 37 73]]\n",
    "\n",
    "y\n",
    " [[ 8 60 11 45 27 28 73  1  2  2]\n",
    " [ 7 20 73 45  8 60 45 73 60 45]\n",
    " [20 80 73  7 28 73 60 73 65  7]\n",
    " [73 45  8 27 73 66  8 46 27 65]\n",
    " [17 60 12 73  8 27 28 73 45 27]\n",
    " [64 17 17 46  7 20 73 60 20 80]\n",
    " [76 20 20 60 73  8 60 80 73 17]\n",
    " [35 43  7 20 17 24 50 37 73 36]]\n",
    " ```\n",
    " although the exact numbers may be different. Check to make sure the data is shifted over one step for `y`."
   ]
  },
  {
   "cell_type": "markdown",
   "metadata": {},
   "source": [
    "---\n",
    "## Defining the network with PyTorch\n",
    "\n",
    "Below is where you'll define the network.\n",
    "\n",
    "<img src=\"assets/charRNN.png\" width=500px>\n",
    "\n",
    "Next, you'll use PyTorch to define the architecture of the network. We start by defining the layers and operations we want. Then, define a method for the forward pass. You've also been given a method for predicting characters."
   ]
  },
  {
   "cell_type": "markdown",
   "metadata": {},
   "source": [
    "### Model Structure\n",
    "\n",
    "In `__init__` the suggested structure is as follows:\n",
    "* Create and store the necessary dictionaries (this has been done for you)\n",
    "* Define an LSTM layer that takes as params: an input size (the number of characters), a hidden layer size `n_hidden`, a number of layers `n_layers`, a dropout probability `drop_prob`, and a batch_first boolean (True, since we are batching)\n",
    "* Define a dropout layer with `dropout_prob`\n",
    "* Define a fully-connected layer with params: input size `n_hidden` and output size (the number of characters)\n",
    "* Finally, initialize the weights (again, this has been given)\n",
    "\n",
    "Note that some parameters have been named and given in the `__init__` function, and we use them and store them by doing something like `self.drop_prob = drop_prob`."
   ]
  },
  {
   "cell_type": "markdown",
   "metadata": {},
   "source": [
    "---\n",
    "### LSTM Inputs/Outputs\n",
    "\n",
    "You can create a basic [LSTM layer](https://pytorch.org/docs/stable/nn.html#lstm) as follows\n",
    "\n",
    "```python\n",
    "self.lstm = nn.LSTM(input_size, n_hidden, n_layers, \n",
    "                            dropout=drop_prob, batch_first=True)\n",
    "```\n",
    "\n",
    "where `input_size` is the number of characters this cell expects to see as sequential input, and `n_hidden` is the number of units in the hidden layers in the cell. And we can add dropout by adding a dropout parameter with a specified probability; this will automatically add dropout to the inputs or outputs. Finally, in the `forward` function, we can stack up the LSTM cells into layers using `.view`. With this, you pass in a list of cells and it will send the output of one cell into the next cell.\n",
    "\n",
    "We also need to create an initial hidden state of all zeros. This is done like so\n",
    "\n",
    "```python\n",
    "self.init_hidden()\n",
    "```"
   ]
  },
  {
   "cell_type": "code",
   "execution_count": 11,
   "metadata": {},
   "outputs": [
    {
     "name": "stdout",
     "output_type": "stream",
     "text": [
      "Training on GPU!\n"
     ]
    }
   ],
   "source": [
    "# check if GPU is available\n",
    "train_on_gpu = torch.cuda.is_available()\n",
    "if(train_on_gpu):\n",
    "    print('Training on GPU!')\n",
    "else: \n",
    "    print('No GPU available, training on CPU; consider making n_epochs very small.')"
   ]
  },
  {
   "cell_type": "code",
   "execution_count": 12,
   "metadata": {},
   "outputs": [],
   "source": [
    "class CharRNN(nn.Module):\n",
    "    \n",
    "    def __init__(self, tokens, n_hidden=256, n_layers=2,\n",
    "                               drop_prob=0.5, lr=0.001):\n",
    "        super().__init__()\n",
    "        self.drop_prob = drop_prob\n",
    "        self.n_layers = n_layers\n",
    "        self.n_hidden = n_hidden\n",
    "        self.lr = lr\n",
    "        \n",
    "        # creating character dictionaries\n",
    "        self.chars = tokens\n",
    "        self.int2char = dict(enumerate(self.chars))\n",
    "        self.char2int = {ch: ii for ii, ch in self.int2char.items()}\n",
    "        \n",
    "        ## TODO: define the layers of the model\n",
    "        self.lstm = nn.LSTM(len(self.chars), self.n_hidden, self.n_layers, dropout=self.drop_prob, batch_first= True)\n",
    "        self.dropout = nn.Dropout(self.drop_prob)\n",
    "        self.fc1 = nn.Linear(self.n_hidden, len(self.chars))\n",
    "    \n",
    "    def forward(self, x, hidden):\n",
    "        ''' Forward pass through the network. \n",
    "            These inputs are x, and the hidden/cell state `hidden`. '''\n",
    "                \n",
    "        ## TODO: Get the outputs and the new hidden state from the lstm\n",
    "        r_output, hidden = self.lstm(x, hidden)\n",
    "        output = self.dropout(r_output)\n",
    "        output = output.contiguous().view(-1,self.n_hidden) # stacking up the outputs of lstm to pass it on to fc layer\n",
    "        out = self.fc1(output)\n",
    "        # return the final output and the hidden state\n",
    "        return out, hidden\n",
    "    \n",
    "    \n",
    "    def init_hidden(self, batch_size):\n",
    "        ''' Initializes hidden state '''\n",
    "        # Create two new tensors with sizes n_layers x batch_size x n_hidden,\n",
    "        # initialized to zero, for hidden state and cell state of LSTM\n",
    "        weight = next(self.parameters()).data\n",
    "        \n",
    "        if (train_on_gpu):\n",
    "            hidden = (weight.new(self.n_layers, batch_size, self.n_hidden).zero_().cuda(),\n",
    "                  weight.new(self.n_layers, batch_size, self.n_hidden).zero_().cuda())\n",
    "        else:\n",
    "            hidden = (weight.new(self.n_layers, batch_size, self.n_hidden).zero_(),\n",
    "                      weight.new(self.n_layers, batch_size, self.n_hidden).zero_())\n",
    "        \n",
    "        return hidden\n",
    "        "
   ]
  },
  {
   "cell_type": "markdown",
   "metadata": {},
   "source": [
    "## Time to train\n",
    "\n",
    "The train function gives us the ability to set the number of epochs, the learning rate, and other parameters.\n",
    "\n",
    "Below we're using an Adam optimizer and cross entropy loss since we are looking at character class scores as output. We calculate the loss and perform backpropagation, as usual!\n",
    "\n",
    "A couple of details about training: \n",
    ">* Within the batch loop, we detach the hidden state from its history; this time setting it equal to a new *tuple* variable because an LSTM has a hidden state that is a tuple of the hidden and cell states.\n",
    "* We use [`clip_grad_norm_`](https://pytorch.org/docs/stable/_modules/torch/nn/utils/clip_grad.html) to help prevent exploding gradients."
   ]
  },
  {
   "cell_type": "code",
   "execution_count": 13,
   "metadata": {},
   "outputs": [],
   "source": [
    "def train(net, data, epochs=10, batch_size=10, seq_length=50, lr=0.001, clip=5, val_frac=0.1, print_every=10):\n",
    "    ''' Training a network \n",
    "    \n",
    "        Arguments\n",
    "        ---------\n",
    "        \n",
    "        net: CharRNN network\n",
    "        data: text data to train the network\n",
    "        epochs: Number of epochs to train\n",
    "        batch_size: Number of mini-sequences per mini-batch, aka batch size\n",
    "        seq_length: Number of character steps per mini-batch\n",
    "        lr: learning rate\n",
    "        clip: gradient clipping\n",
    "        val_frac: Fraction of data to hold out for validation\n",
    "        print_every: Number of steps for printing training and validation loss\n",
    "    \n",
    "    '''\n",
    "    net.train()\n",
    "    \n",
    "    opt = torch.optim.Adam(net.parameters(), lr=lr)\n",
    "    criterion = nn.CrossEntropyLoss()\n",
    "    \n",
    "    # create training and validation data\n",
    "    val_idx = int(len(data)*(1-val_frac))\n",
    "    data, val_data = data[:val_idx], data[val_idx:]\n",
    "    \n",
    "    if(train_on_gpu):\n",
    "        net.cuda()\n",
    "    \n",
    "    counter = 0\n",
    "    n_chars = len(net.chars)\n",
    "    for e in range(epochs):\n",
    "        # initialize hidden state\n",
    "        h = net.init_hidden(batch_size)\n",
    "        \n",
    "        for x, y in get_batches(data, batch_size, seq_length):\n",
    "            counter += 1\n",
    "            \n",
    "            # One-hot encode our data and make them Torch tensors\n",
    "            x = one_hot_encode(x, n_chars)\n",
    "            inputs, targets = torch.from_numpy(x), torch.from_numpy(y)\n",
    "            \n",
    "            if(train_on_gpu):\n",
    "                inputs, targets = inputs.cuda(), targets.cuda()\n",
    "\n",
    "            # Creating new variables for the hidden state, otherwise\n",
    "            # we'd backprop through the entire training history\n",
    "            h = tuple([each.data for each in h])\n",
    "\n",
    "            # zero accumulated gradients\n",
    "            net.zero_grad()\n",
    "            \n",
    "            # get the output from the model\n",
    "            output, h = net(inputs, h)\n",
    "            \n",
    "            # calculate the loss and perform backprop\n",
    "            loss = criterion(output, targets.view(batch_size*seq_length))\n",
    "            loss.backward()\n",
    "            # `clip_grad_norm` helps prevent the exploding gradient problem in RNNs / LSTMs.\n",
    "            nn.utils.clip_grad_norm_(net.parameters(), clip)\n",
    "            opt.step()\n",
    "            \n",
    "            # loss stats\n",
    "            if counter % print_every == 0:\n",
    "                # Get validation loss\n",
    "                val_h = net.init_hidden(batch_size)\n",
    "                val_losses = []\n",
    "                net.eval()\n",
    "                for x, y in get_batches(val_data, batch_size, seq_length):\n",
    "                    # One-hot encode our data and make them Torch tensors\n",
    "                    x = one_hot_encode(x, n_chars)\n",
    "                    x, y = torch.from_numpy(x), torch.from_numpy(y)\n",
    "                    \n",
    "                    # Creating new variables for the hidden state, otherwise\n",
    "                    # we'd backprop through the entire training history\n",
    "                    val_h = tuple([each.data for each in val_h])\n",
    "                    \n",
    "                    inputs, targets = x, y\n",
    "                    if(train_on_gpu):\n",
    "                        inputs, targets = inputs.cuda(), targets.cuda()\n",
    "\n",
    "                    output, val_h = net(inputs, val_h)\n",
    "                    val_loss = criterion(output, targets.view(batch_size*seq_length))\n",
    "                \n",
    "                    val_losses.append(val_loss.item())\n",
    "                \n",
    "                net.train() # reset to train mode after iterationg through validation data\n",
    "                \n",
    "                print(\"Epoch: {}/{}...\".format(e+1, epochs),\n",
    "                      \"Step: {}...\".format(counter),\n",
    "                      \"Loss: {:.4f}...\".format(loss.item()),\n",
    "                      \"Val Loss: {:.4f}\".format(np.mean(val_losses)))"
   ]
  },
  {
   "cell_type": "markdown",
   "metadata": {},
   "source": [
    "## Instantiating the model\n",
    "\n",
    "Now we can actually train the network. First we'll create the network itself, with some given hyperparameters. Then, define the mini-batches sizes, and start training!"
   ]
  },
  {
   "cell_type": "code",
   "execution_count": 14,
   "metadata": {},
   "outputs": [
    {
     "name": "stdout",
     "output_type": "stream",
     "text": [
      "CharRNN(\n",
      "  (lstm): LSTM(83, 512, num_layers=2, batch_first=True, dropout=0.5)\n",
      "  (dropout): Dropout(p=0.5)\n",
      "  (fc1): Linear(in_features=512, out_features=83, bias=True)\n",
      ")\n"
     ]
    }
   ],
   "source": [
    "## TODO: set you model hyperparameters\n",
    "# define and print the net\n",
    "n_hidden= 512\n",
    "n_layers= 2\n",
    "\n",
    "net = CharRNN(chars, n_hidden, n_layers)\n",
    "print(net)"
   ]
  },
  {
   "cell_type": "markdown",
   "metadata": {},
   "source": [
    "### Set your training hyperparameters!"
   ]
  },
  {
   "cell_type": "code",
   "execution_count": 16,
   "metadata": {
    "scrolled": true
   },
   "outputs": [
    {
     "name": "stdout",
     "output_type": "stream",
     "text": [
      "Epoch: 1/20... Step: 10... Loss: 3.1289... Val Loss: 3.1137\n",
      "Epoch: 1/20... Step: 20... Loss: 3.0807... Val Loss: 3.0981\n",
      "Epoch: 1/20... Step: 30... Loss: 3.0868... Val Loss: 3.0614\n",
      "Epoch: 1/20... Step: 40... Loss: 2.9696... Val Loss: 2.9782\n",
      "Epoch: 1/20... Step: 50... Loss: 2.9155... Val Loss: 2.8774\n",
      "Epoch: 1/20... Step: 60... Loss: 2.7603... Val Loss: 2.7432\n",
      "Epoch: 1/20... Step: 70... Loss: 2.6827... Val Loss: 2.6707\n",
      "Epoch: 1/20... Step: 80... Loss: 2.5999... Val Loss: 2.5822\n",
      "Epoch: 1/20... Step: 90... Loss: 2.5381... Val Loss: 2.5071\n",
      "Epoch: 1/20... Step: 100... Loss: 2.4815... Val Loss: 2.4584\n",
      "Epoch: 1/20... Step: 110... Loss: 2.4265... Val Loss: 2.4126\n",
      "Epoch: 1/20... Step: 120... Loss: 2.3663... Val Loss: 2.3727\n",
      "Epoch: 1/20... Step: 130... Loss: 2.3763... Val Loss: 2.3432\n",
      "Epoch: 2/20... Step: 140... Loss: 2.3473... Val Loss: 2.3121\n",
      "Epoch: 2/20... Step: 150... Loss: 2.3076... Val Loss: 2.2802\n",
      "Epoch: 2/20... Step: 160... Loss: 2.2828... Val Loss: 2.2471\n",
      "Epoch: 2/20... Step: 170... Loss: 2.2237... Val Loss: 2.2191\n",
      "Epoch: 2/20... Step: 180... Loss: 2.2002... Val Loss: 2.1949\n",
      "Epoch: 2/20... Step: 190... Loss: 2.1459... Val Loss: 2.1631\n",
      "Epoch: 2/20... Step: 200... Loss: 2.1517... Val Loss: 2.1434\n",
      "Epoch: 2/20... Step: 210... Loss: 2.1391... Val Loss: 2.1231\n",
      "Epoch: 2/20... Step: 220... Loss: 2.0910... Val Loss: 2.0930\n",
      "Epoch: 2/20... Step: 230... Loss: 2.0901... Val Loss: 2.0709\n",
      "Epoch: 2/20... Step: 240... Loss: 2.0743... Val Loss: 2.0467\n",
      "Epoch: 2/20... Step: 250... Loss: 2.0115... Val Loss: 2.0302\n",
      "Epoch: 2/20... Step: 260... Loss: 1.9916... Val Loss: 2.0071\n",
      "Epoch: 2/20... Step: 270... Loss: 2.0126... Val Loss: 1.9872\n",
      "Epoch: 3/20... Step: 280... Loss: 2.0021... Val Loss: 1.9674\n",
      "Epoch: 3/20... Step: 290... Loss: 1.9770... Val Loss: 1.9469\n",
      "Epoch: 3/20... Step: 300... Loss: 1.9436... Val Loss: 1.9289\n",
      "Epoch: 3/20... Step: 310... Loss: 1.9252... Val Loss: 1.9102\n",
      "Epoch: 3/20... Step: 320... Loss: 1.8804... Val Loss: 1.8927\n",
      "Epoch: 3/20... Step: 330... Loss: 1.8678... Val Loss: 1.8805\n",
      "Epoch: 3/20... Step: 340... Loss: 1.9038... Val Loss: 1.8643\n",
      "Epoch: 3/20... Step: 350... Loss: 1.8738... Val Loss: 1.8503\n",
      "Epoch: 3/20... Step: 360... Loss: 1.8177... Val Loss: 1.8344\n",
      "Epoch: 3/20... Step: 370... Loss: 1.8432... Val Loss: 1.8210\n",
      "Epoch: 3/20... Step: 380... Loss: 1.8322... Val Loss: 1.8049\n",
      "Epoch: 3/20... Step: 390... Loss: 1.7945... Val Loss: 1.7942\n",
      "Epoch: 3/20... Step: 400... Loss: 1.7773... Val Loss: 1.7815\n",
      "Epoch: 3/20... Step: 410... Loss: 1.7818... Val Loss: 1.7807\n",
      "Epoch: 4/20... Step: 420... Loss: 1.7745... Val Loss: 1.7605\n",
      "Epoch: 4/20... Step: 430... Loss: 1.7740... Val Loss: 1.7463\n",
      "Epoch: 4/20... Step: 440... Loss: 1.7563... Val Loss: 1.7376\n",
      "Epoch: 4/20... Step: 450... Loss: 1.7087... Val Loss: 1.7229\n",
      "Epoch: 4/20... Step: 460... Loss: 1.6840... Val Loss: 1.7167\n",
      "Epoch: 4/20... Step: 470... Loss: 1.7265... Val Loss: 1.7065\n",
      "Epoch: 4/20... Step: 480... Loss: 1.7134... Val Loss: 1.6965\n",
      "Epoch: 4/20... Step: 490... Loss: 1.7091... Val Loss: 1.6883\n",
      "Epoch: 4/20... Step: 500... Loss: 1.7181... Val Loss: 1.6800\n",
      "Epoch: 4/20... Step: 510... Loss: 1.6823... Val Loss: 1.6713\n",
      "Epoch: 4/20... Step: 520... Loss: 1.6981... Val Loss: 1.6633\n",
      "Epoch: 4/20... Step: 530... Loss: 1.6603... Val Loss: 1.6578\n",
      "Epoch: 4/20... Step: 540... Loss: 1.6318... Val Loss: 1.6483\n",
      "Epoch: 4/20... Step: 550... Loss: 1.6730... Val Loss: 1.6446\n",
      "Epoch: 5/20... Step: 560... Loss: 1.6486... Val Loss: 1.6419\n",
      "Epoch: 5/20... Step: 570... Loss: 1.6308... Val Loss: 1.6257\n",
      "Epoch: 5/20... Step: 580... Loss: 1.6229... Val Loss: 1.6169\n",
      "Epoch: 5/20... Step: 590... Loss: 1.6214... Val Loss: 1.6096\n",
      "Epoch: 5/20... Step: 600... Loss: 1.6078... Val Loss: 1.6064\n",
      "Epoch: 5/20... Step: 610... Loss: 1.5830... Val Loss: 1.5998\n",
      "Epoch: 5/20... Step: 620... Loss: 1.6061... Val Loss: 1.5933\n",
      "Epoch: 5/20... Step: 630... Loss: 1.6116... Val Loss: 1.5845\n",
      "Epoch: 5/20... Step: 640... Loss: 1.5842... Val Loss: 1.5825\n",
      "Epoch: 5/20... Step: 650... Loss: 1.5831... Val Loss: 1.5771\n",
      "Epoch: 5/20... Step: 660... Loss: 1.5645... Val Loss: 1.5715\n",
      "Epoch: 5/20... Step: 670... Loss: 1.5784... Val Loss: 1.5674\n",
      "Epoch: 5/20... Step: 680... Loss: 1.5711... Val Loss: 1.5640\n",
      "Epoch: 5/20... Step: 690... Loss: 1.5594... Val Loss: 1.5582\n",
      "Epoch: 6/20... Step: 700... Loss: 1.5619... Val Loss: 1.5504\n",
      "Epoch: 6/20... Step: 710... Loss: 1.5529... Val Loss: 1.5440\n",
      "Epoch: 6/20... Step: 720... Loss: 1.5370... Val Loss: 1.5379\n",
      "Epoch: 6/20... Step: 730... Loss: 1.5548... Val Loss: 1.5361\n",
      "Epoch: 6/20... Step: 740... Loss: 1.5199... Val Loss: 1.5341\n",
      "Epoch: 6/20... Step: 750... Loss: 1.5101... Val Loss: 1.5306\n",
      "Epoch: 6/20... Step: 760... Loss: 1.5486... Val Loss: 1.5266\n",
      "Epoch: 6/20... Step: 770... Loss: 1.5196... Val Loss: 1.5195\n",
      "Epoch: 6/20... Step: 780... Loss: 1.5070... Val Loss: 1.5187\n",
      "Epoch: 6/20... Step: 790... Loss: 1.5000... Val Loss: 1.5117\n",
      "Epoch: 6/20... Step: 800... Loss: 1.5166... Val Loss: 1.5117\n",
      "Epoch: 6/20... Step: 810... Loss: 1.4973... Val Loss: 1.5047\n",
      "Epoch: 6/20... Step: 820... Loss: 1.4641... Val Loss: 1.4988\n",
      "Epoch: 6/20... Step: 830... Loss: 1.5108... Val Loss: 1.4984\n",
      "Epoch: 7/20... Step: 840... Loss: 1.4754... Val Loss: 1.4955\n",
      "Epoch: 7/20... Step: 850... Loss: 1.4891... Val Loss: 1.4903\n",
      "Epoch: 7/20... Step: 860... Loss: 1.4728... Val Loss: 1.4874\n",
      "Epoch: 7/20... Step: 870... Loss: 1.4850... Val Loss: 1.4864\n",
      "Epoch: 7/20... Step: 880... Loss: 1.4875... Val Loss: 1.4870\n",
      "Epoch: 7/20... Step: 890... Loss: 1.4820... Val Loss: 1.4775\n",
      "Epoch: 7/20... Step: 900... Loss: 1.4697... Val Loss: 1.4735\n",
      "Epoch: 7/20... Step: 910... Loss: 1.4400... Val Loss: 1.4719\n",
      "Epoch: 7/20... Step: 920... Loss: 1.4629... Val Loss: 1.4721\n",
      "Epoch: 7/20... Step: 930... Loss: 1.4507... Val Loss: 1.4660\n",
      "Epoch: 7/20... Step: 940... Loss: 1.4574... Val Loss: 1.4652\n",
      "Epoch: 7/20... Step: 950... Loss: 1.4625... Val Loss: 1.4586\n",
      "Epoch: 7/20... Step: 960... Loss: 1.4676... Val Loss: 1.4589\n",
      "Epoch: 7/20... Step: 970... Loss: 1.4658... Val Loss: 1.4558\n",
      "Epoch: 8/20... Step: 980... Loss: 1.4463... Val Loss: 1.4520\n",
      "Epoch: 8/20... Step: 990... Loss: 1.4523... Val Loss: 1.4490\n",
      "Epoch: 8/20... Step: 1000... Loss: 1.4373... Val Loss: 1.4450\n",
      "Epoch: 8/20... Step: 1010... Loss: 1.4729... Val Loss: 1.4425\n",
      "Epoch: 8/20... Step: 1020... Loss: 1.4470... Val Loss: 1.4442\n",
      "Epoch: 8/20... Step: 1030... Loss: 1.4258... Val Loss: 1.4407\n",
      "Epoch: 8/20... Step: 1040... Loss: 1.4446... Val Loss: 1.4384\n",
      "Epoch: 8/20... Step: 1050... Loss: 1.4111... Val Loss: 1.4312\n",
      "Epoch: 8/20... Step: 1060... Loss: 1.4176... Val Loss: 1.4331\n",
      "Epoch: 8/20... Step: 1070... Loss: 1.4242... Val Loss: 1.4288\n",
      "Epoch: 8/20... Step: 1080... Loss: 1.4219... Val Loss: 1.4262\n",
      "Epoch: 8/20... Step: 1090... Loss: 1.4012... Val Loss: 1.4229\n",
      "Epoch: 8/20... Step: 1100... Loss: 1.3988... Val Loss: 1.4205\n",
      "Epoch: 8/20... Step: 1110... Loss: 1.4107... Val Loss: 1.4212\n",
      "Epoch: 9/20... Step: 1120... Loss: 1.4245... Val Loss: 1.4247\n",
      "Epoch: 9/20... Step: 1130... Loss: 1.4193... Val Loss: 1.4133\n",
      "Epoch: 9/20... Step: 1140... Loss: 1.4177... Val Loss: 1.4102\n",
      "Epoch: 9/20... Step: 1150... Loss: 1.4191... Val Loss: 1.4055\n",
      "Epoch: 9/20... Step: 1160... Loss: 1.3823... Val Loss: 1.4096\n",
      "Epoch: 9/20... Step: 1170... Loss: 1.3926... Val Loss: 1.4024\n",
      "Epoch: 9/20... Step: 1180... Loss: 1.3865... Val Loss: 1.4002\n",
      "Epoch: 9/20... Step: 1190... Loss: 1.4197... Val Loss: 1.3986\n",
      "Epoch: 9/20... Step: 1200... Loss: 1.3626... Val Loss: 1.4026\n",
      "Epoch: 9/20... Step: 1210... Loss: 1.3720... Val Loss: 1.3936\n",
      "Epoch: 9/20... Step: 1220... Loss: 1.3789... Val Loss: 1.3964\n",
      "Epoch: 9/20... Step: 1230... Loss: 1.3614... Val Loss: 1.3904\n",
      "Epoch: 9/20... Step: 1240... Loss: 1.3687... Val Loss: 1.3883\n",
      "Epoch: 9/20... Step: 1250... Loss: 1.3753... Val Loss: 1.3874\n",
      "Epoch: 10/20... Step: 1260... Loss: 1.3783... Val Loss: 1.3871\n",
      "Epoch: 10/20... Step: 1270... Loss: 1.3792... Val Loss: 1.3872\n",
      "Epoch: 10/20... Step: 1280... Loss: 1.3892... Val Loss: 1.3832\n",
      "Epoch: 10/20... Step: 1290... Loss: 1.3669... Val Loss: 1.3812\n",
      "Epoch: 10/20... Step: 1300... Loss: 1.3618... Val Loss: 1.3815\n",
      "Epoch: 10/20... Step: 1310... Loss: 1.3710... Val Loss: 1.3820\n",
      "Epoch: 10/20... Step: 1320... Loss: 1.3390... Val Loss: 1.3760\n",
      "Epoch: 10/20... Step: 1330... Loss: 1.3389... Val Loss: 1.3739\n",
      "Epoch: 10/20... Step: 1340... Loss: 1.3270... Val Loss: 1.3742\n",
      "Epoch: 10/20... Step: 1350... Loss: 1.3331... Val Loss: 1.3719\n",
      "Epoch: 10/20... Step: 1360... Loss: 1.3402... Val Loss: 1.3769\n",
      "Epoch: 10/20... Step: 1370... Loss: 1.3268... Val Loss: 1.3725\n",
      "Epoch: 10/20... Step: 1380... Loss: 1.3639... Val Loss: 1.3674\n",
      "Epoch: 10/20... Step: 1390... Loss: 1.3706... Val Loss: 1.3680\n",
      "Epoch: 11/20... Step: 1400... Loss: 1.3775... Val Loss: 1.3632\n",
      "Epoch: 11/20... Step: 1410... Loss: 1.3844... Val Loss: 1.3667\n",
      "Epoch: 11/20... Step: 1420... Loss: 1.3825... Val Loss: 1.3596\n",
      "Epoch: 11/20... Step: 1430... Loss: 1.3434... Val Loss: 1.3618\n",
      "Epoch: 11/20... Step: 1440... Loss: 1.3615... Val Loss: 1.3608\n",
      "Epoch: 11/20... Step: 1450... Loss: 1.3037... Val Loss: 1.3646\n",
      "Epoch: 11/20... Step: 1460... Loss: 1.3208... Val Loss: 1.3570\n",
      "Epoch: 11/20... Step: 1470... Loss: 1.3135... Val Loss: 1.3600\n",
      "Epoch: 11/20... Step: 1480... Loss: 1.3291... Val Loss: 1.3558\n",
      "Epoch: 11/20... Step: 1490... Loss: 1.3200... Val Loss: 1.3532\n",
      "Epoch: 11/20... Step: 1500... Loss: 1.3157... Val Loss: 1.3536\n",
      "Epoch: 11/20... Step: 1510... Loss: 1.2893... Val Loss: 1.3538\n",
      "Epoch: 11/20... Step: 1520... Loss: 1.3347... Val Loss: 1.3489\n",
      "Epoch: 12/20... Step: 1530... Loss: 1.4131... Val Loss: 1.3510\n",
      "Epoch: 12/20... Step: 1540... Loss: 1.3335... Val Loss: 1.3496\n",
      "Epoch: 12/20... Step: 1550... Loss: 1.3417... Val Loss: 1.3484\n",
      "Epoch: 12/20... Step: 1560... Loss: 1.3518... Val Loss: 1.3450\n",
      "Epoch: 12/20... Step: 1570... Loss: 1.3069... Val Loss: 1.3474\n",
      "Epoch: 12/20... Step: 1580... Loss: 1.2900... Val Loss: 1.3458\n",
      "Epoch: 12/20... Step: 1590... Loss: 1.2792... Val Loss: 1.3491\n",
      "Epoch: 12/20... Step: 1600... Loss: 1.3143... Val Loss: 1.3430\n",
      "Epoch: 12/20... Step: 1610... Loss: 1.3006... Val Loss: 1.3425\n",
      "Epoch: 12/20... Step: 1620... Loss: 1.2918... Val Loss: 1.3430\n",
      "Epoch: 12/20... Step: 1630... Loss: 1.3359... Val Loss: 1.3363\n",
      "Epoch: 12/20... Step: 1640... Loss: 1.2956... Val Loss: 1.3391\n",
      "Epoch: 12/20... Step: 1650... Loss: 1.2853... Val Loss: 1.3374\n",
      "Epoch: 12/20... Step: 1660... Loss: 1.3350... Val Loss: 1.3393\n",
      "Epoch: 13/20... Step: 1670... Loss: 1.3039... Val Loss: 1.3411\n",
      "Epoch: 13/20... Step: 1680... Loss: 1.3073... Val Loss: 1.3385\n",
      "Epoch: 13/20... Step: 1690... Loss: 1.2904... Val Loss: 1.3332\n",
      "Epoch: 13/20... Step: 1700... Loss: 1.2992... Val Loss: 1.3277\n",
      "Epoch: 13/20... Step: 1710... Loss: 1.2751... Val Loss: 1.3315\n",
      "Epoch: 13/20... Step: 1720... Loss: 1.2904... Val Loss: 1.3317\n",
      "Epoch: 13/20... Step: 1730... Loss: 1.3241... Val Loss: 1.3309\n",
      "Epoch: 13/20... Step: 1740... Loss: 1.2818... Val Loss: 1.3320\n",
      "Epoch: 13/20... Step: 1750... Loss: 1.2564... Val Loss: 1.3341\n",
      "Epoch: 13/20... Step: 1760... Loss: 1.2875... Val Loss: 1.3298\n",
      "Epoch: 13/20... Step: 1770... Loss: 1.3062... Val Loss: 1.3297\n",
      "Epoch: 13/20... Step: 1780... Loss: 1.2712... Val Loss: 1.3266\n",
      "Epoch: 13/20... Step: 1790... Loss: 1.2691... Val Loss: 1.3265\n",
      "Epoch: 13/20... Step: 1800... Loss: 1.2879... Val Loss: 1.3277\n",
      "Epoch: 14/20... Step: 1810... Loss: 1.2952... Val Loss: 1.3267\n",
      "Epoch: 14/20... Step: 1820... Loss: 1.2773... Val Loss: 1.3265\n",
      "Epoch: 14/20... Step: 1830... Loss: 1.2949... Val Loss: 1.3250\n",
      "Epoch: 14/20... Step: 1840... Loss: 1.2516... Val Loss: 1.3179\n",
      "Epoch: 14/20... Step: 1850... Loss: 1.2291... Val Loss: 1.3206\n",
      "Epoch: 14/20... Step: 1860... Loss: 1.2883... Val Loss: 1.3198\n",
      "Epoch: 14/20... Step: 1870... Loss: 1.2901... Val Loss: 1.3250\n",
      "Epoch: 14/20... Step: 1880... Loss: 1.2812... Val Loss: 1.3211\n",
      "Epoch: 14/20... Step: 1890... Loss: 1.3082... Val Loss: 1.3227\n",
      "Epoch: 14/20... Step: 1900... Loss: 1.2818... Val Loss: 1.3212\n",
      "Epoch: 14/20... Step: 1910... Loss: 1.2748... Val Loss: 1.3191\n",
      "Epoch: 14/20... Step: 1920... Loss: 1.2743... Val Loss: 1.3184\n",
      "Epoch: 14/20... Step: 1930... Loss: 1.2472... Val Loss: 1.3206\n",
      "Epoch: 14/20... Step: 1940... Loss: 1.3013... Val Loss: 1.3175\n",
      "Epoch: 15/20... Step: 1950... Loss: 1.2680... Val Loss: 1.3146\n",
      "Epoch: 15/20... Step: 1960... Loss: 1.2605... Val Loss: 1.3162\n",
      "Epoch: 15/20... Step: 1970... Loss: 1.2590... Val Loss: 1.3132\n",
      "Epoch: 15/20... Step: 1980... Loss: 1.2428... Val Loss: 1.3138\n",
      "Epoch: 15/20... Step: 1990... Loss: 1.2547... Val Loss: 1.3129\n",
      "Epoch: 15/20... Step: 2000... Loss: 1.2441... Val Loss: 1.3152\n",
      "Epoch: 15/20... Step: 2010... Loss: 1.2678... Val Loss: 1.3118\n",
      "Epoch: 15/20... Step: 2020... Loss: 1.2765... Val Loss: 1.3131\n",
      "Epoch: 15/20... Step: 2030... Loss: 1.2463... Val Loss: 1.3152\n",
      "Epoch: 15/20... Step: 2040... Loss: 1.2617... Val Loss: 1.3143\n",
      "Epoch: 15/20... Step: 2050... Loss: 1.2488... Val Loss: 1.3118\n",
      "Epoch: 15/20... Step: 2060... Loss: 1.2612... Val Loss: 1.3098\n",
      "Epoch: 15/20... Step: 2070... Loss: 1.2626... Val Loss: 1.3127\n",
      "Epoch: 15/20... Step: 2080... Loss: 1.2668... Val Loss: 1.3097\n",
      "Epoch: 16/20... Step: 2090... Loss: 1.2572... Val Loss: 1.3167\n",
      "Epoch: 16/20... Step: 2100... Loss: 1.2534... Val Loss: 1.3081\n",
      "Epoch: 16/20... Step: 2110... Loss: 1.2395... Val Loss: 1.3081\n",
      "Epoch: 16/20... Step: 2120... Loss: 1.2531... Val Loss: 1.3117\n",
      "Epoch: 16/20... Step: 2130... Loss: 1.2316... Val Loss: 1.3063\n",
      "Epoch: 16/20... Step: 2140... Loss: 1.2521... Val Loss: 1.3049\n",
      "Epoch: 16/20... Step: 2150... Loss: 1.2687... Val Loss: 1.3076\n",
      "Epoch: 16/20... Step: 2160... Loss: 1.2455... Val Loss: 1.3028\n",
      "Epoch: 16/20... Step: 2170... Loss: 1.2448... Val Loss: 1.3066\n",
      "Epoch: 16/20... Step: 2180... Loss: 1.2423... Val Loss: 1.3108\n",
      "Epoch: 16/20... Step: 2190... Loss: 1.2535... Val Loss: 1.3032\n",
      "Epoch: 16/20... Step: 2200... Loss: 1.2404... Val Loss: 1.3015\n",
      "Epoch: 16/20... Step: 2210... Loss: 1.2106... Val Loss: 1.3007\n",
      "Epoch: 16/20... Step: 2220... Loss: 1.2571... Val Loss: 1.3016\n",
      "Epoch: 17/20... Step: 2230... Loss: 1.2292... Val Loss: 1.2982\n",
      "Epoch: 17/20... Step: 2240... Loss: 1.2358... Val Loss: 1.2981\n",
      "Epoch: 17/20... Step: 2250... Loss: 1.2232... Val Loss: 1.2982\n",
      "Epoch: 17/20... Step: 2260... Loss: 1.2370... Val Loss: 1.2978\n",
      "Epoch: 17/20... Step: 2270... Loss: 1.2462... Val Loss: 1.2974\n",
      "Epoch: 17/20... Step: 2280... Loss: 1.2477... Val Loss: 1.2961\n",
      "Epoch: 17/20... Step: 2290... Loss: 1.2425... Val Loss: 1.2960\n",
      "Epoch: 17/20... Step: 2300... Loss: 1.2088... Val Loss: 1.2954\n",
      "Epoch: 17/20... Step: 2310... Loss: 1.2332... Val Loss: 1.2989\n",
      "Epoch: 17/20... Step: 2320... Loss: 1.2272... Val Loss: 1.2968\n",
      "Epoch: 17/20... Step: 2330... Loss: 1.2271... Val Loss: 1.2963\n",
      "Epoch: 17/20... Step: 2340... Loss: 1.2523... Val Loss: 1.2948\n",
      "Epoch: 17/20... Step: 2350... Loss: 1.2479... Val Loss: 1.2979\n",
      "Epoch: 17/20... Step: 2360... Loss: 1.2562... Val Loss: 1.2939\n",
      "Epoch: 18/20... Step: 2370... Loss: 1.2167... Val Loss: 1.2950\n",
      "Epoch: 18/20... Step: 2380... Loss: 1.2263... Val Loss: 1.2923\n",
      "Epoch: 18/20... Step: 2390... Loss: 1.2357... Val Loss: 1.2933\n",
      "Epoch: 18/20... Step: 2400... Loss: 1.2526... Val Loss: 1.2937\n",
      "Epoch: 18/20... Step: 2410... Loss: 1.2476... Val Loss: 1.2890\n",
      "Epoch: 18/20... Step: 2420... Loss: 1.2221... Val Loss: 1.2986\n",
      "Epoch: 18/20... Step: 2430... Loss: 1.2321... Val Loss: 1.2928\n",
      "Epoch: 18/20... Step: 2440... Loss: 1.2272... Val Loss: 1.2956\n",
      "Epoch: 18/20... Step: 2450... Loss: 1.2138... Val Loss: 1.2934\n",
      "Epoch: 18/20... Step: 2460... Loss: 1.2293... Val Loss: 1.2953\n",
      "Epoch: 18/20... Step: 2470... Loss: 1.2226... Val Loss: 1.2922\n",
      "Epoch: 18/20... Step: 2480... Loss: 1.2221... Val Loss: 1.2884\n",
      "Epoch: 18/20... Step: 2490... Loss: 1.2072... Val Loss: 1.2877\n",
      "Epoch: 18/20... Step: 2500... Loss: 1.2208... Val Loss: 1.2876\n",
      "Epoch: 19/20... Step: 2510... Loss: 1.2130... Val Loss: 1.2869\n",
      "Epoch: 19/20... Step: 2520... Loss: 1.2336... Val Loss: 1.2845\n",
      "Epoch: 19/20... Step: 2530... Loss: 1.2362... Val Loss: 1.2867\n",
      "Epoch: 19/20... Step: 2540... Loss: 1.2474... Val Loss: 1.2849\n",
      "Epoch: 19/20... Step: 2550... Loss: 1.2056... Val Loss: 1.2832\n",
      "Epoch: 19/20... Step: 2560... Loss: 1.2131... Val Loss: 1.2849\n",
      "Epoch: 19/20... Step: 2570... Loss: 1.2137... Val Loss: 1.2857\n",
      "Epoch: 19/20... Step: 2580... Loss: 1.2483... Val Loss: 1.2841\n",
      "Epoch: 19/20... Step: 2590... Loss: 1.2098... Val Loss: 1.2890\n",
      "Epoch: 19/20... Step: 2600... Loss: 1.2073... Val Loss: 1.2851\n",
      "Epoch: 19/20... Step: 2610... Loss: 1.2194... Val Loss: 1.2886\n",
      "Epoch: 19/20... Step: 2620... Loss: 1.1966... Val Loss: 1.2825\n",
      "Epoch: 19/20... Step: 2630... Loss: 1.1998... Val Loss: 1.2829\n",
      "Epoch: 19/20... Step: 2640... Loss: 1.2166... Val Loss: 1.2815\n",
      "Epoch: 20/20... Step: 2650... Loss: 1.2214... Val Loss: 1.2812\n",
      "Epoch: 20/20... Step: 2660... Loss: 1.2313... Val Loss: 1.2821\n",
      "Epoch: 20/20... Step: 2670... Loss: 1.2363... Val Loss: 1.2822\n",
      "Epoch: 20/20... Step: 2680... Loss: 1.2280... Val Loss: 1.2809\n",
      "Epoch: 20/20... Step: 2690... Loss: 1.2198... Val Loss: 1.2809\n",
      "Epoch: 20/20... Step: 2700... Loss: 1.2215... Val Loss: 1.2788\n",
      "Epoch: 20/20... Step: 2710... Loss: 1.1867... Val Loss: 1.2810\n",
      "Epoch: 20/20... Step: 2720... Loss: 1.1793... Val Loss: 1.2809\n",
      "Epoch: 20/20... Step: 2730... Loss: 1.1878... Val Loss: 1.2793\n",
      "Epoch: 20/20... Step: 2740... Loss: 1.1934... Val Loss: 1.2817\n",
      "Epoch: 20/20... Step: 2750... Loss: 1.1877... Val Loss: 1.2831\n",
      "Epoch: 20/20... Step: 2760... Loss: 1.1811... Val Loss: 1.2777\n",
      "Epoch: 20/20... Step: 2770... Loss: 1.2237... Val Loss: 1.2836\n",
      "Epoch: 20/20... Step: 2780... Loss: 1.2477... Val Loss: 1.2748\n"
     ]
    }
   ],
   "source": [
    "batch_size = 128\n",
    "seq_length = 100\n",
    "n_epochs =  20 # start small if you are just testing initial behavior\n",
    "\n",
    "# train the model\n",
    "train(net, encoded, epochs=n_epochs, batch_size=batch_size, seq_length=seq_length, lr=0.001, print_every=10)"
   ]
  },
  {
   "cell_type": "markdown",
   "metadata": {},
   "source": [
    "## Getting the best model\n",
    "\n",
    "To set your hyperparameters to get the best performance, you'll want to watch the training and validation losses. If your training loss is much lower than the validation loss, you're overfitting. Increase regularization (more dropout) or use a smaller network. If the training and validation losses are close, you're underfitting so you can increase the size of the network."
   ]
  },
  {
   "cell_type": "markdown",
   "metadata": {},
   "source": [
    "## Hyperparameters\n",
    "\n",
    "Here are the hyperparameters for the network.\n",
    "\n",
    "In defining the model:\n",
    "* `n_hidden` - The number of units in the hidden layers.\n",
    "* `n_layers` - Number of hidden LSTM layers to use.\n",
    "\n",
    "We assume that dropout probability and learning rate will be kept at the default, in this example.\n",
    "\n",
    "And in training:\n",
    "* `batch_size` - Number of sequences running through the network in one pass.\n",
    "* `seq_length` - Number of characters in the sequence the network is trained on. Larger is better typically, the network will learn more long range dependencies. But it takes longer to train. 100 is typically a good number here.\n",
    "* `lr` - Learning rate for training\n",
    "\n",
    "Here's some good advice from Andrej Karpathy on training the network. I'm going to copy it in here for your benefit, but also link to [where it originally came from](https://github.com/karpathy/char-rnn#tips-and-tricks).\n",
    "\n",
    "> ## Tips and Tricks\n",
    "\n",
    ">### Monitoring Validation Loss vs. Training Loss\n",
    ">If you're somewhat new to Machine Learning or Neural Networks it can take a bit of expertise to get good models. The most important quantity to keep track of is the difference between your training loss (printed during training) and the validation loss (printed once in a while when the RNN is run on the validation data (by default every 1000 iterations)). In particular:\n",
    "\n",
    "> - If your training loss is much lower than validation loss then this means the network might be **overfitting**. Solutions to this are to decrease your network size, or to increase dropout. For example you could try dropout of 0.5 and so on.\n",
    "> - If your training/validation loss are about equal then your model is **underfitting**. Increase the size of your model (either number of layers or the raw number of neurons per layer)\n",
    "\n",
    "> ### Approximate number of parameters\n",
    "\n",
    "> The two most important parameters that control the model are `n_hidden` and `n_layers`. I would advise that you always use `n_layers` of either 2/3. The `n_hidden` can be adjusted based on how much data you have. The two important quantities to keep track of here are:\n",
    "\n",
    "> - The number of parameters in your model. This is printed when you start training.\n",
    "> - The size of your dataset. 1MB file is approximately 1 million characters.\n",
    "\n",
    ">These two should be about the same order of magnitude. It's a little tricky to tell. Here are some examples:\n",
    "\n",
    "> - I have a 100MB dataset and I'm using the default parameter settings (which currently print 150K parameters). My data size is significantly larger (100 mil >> 0.15 mil), so I expect to heavily underfit. I am thinking I can comfortably afford to make `n_hidden` larger.\n",
    "> - I have a 10MB dataset and running a 10 million parameter model. I'm slightly nervous and I'm carefully monitoring my validation loss. If it's larger than my training loss then I may want to try to increase dropout a bit and see if that helps the validation loss.\n",
    "\n",
    "> ### Best models strategy\n",
    "\n",
    ">The winning strategy to obtaining very good models (if you have the compute time) is to always err on making the network larger (as large as you're willing to wait for it to compute) and then try different dropout values (between 0,1). Whatever model has the best validation performance (the loss, written in the checkpoint filename, low is good) is the one you should use in the end.\n",
    "\n",
    ">It is very common in deep learning to run many different models with many different hyperparameter settings, and in the end take whatever checkpoint gave the best validation performance.\n",
    "\n",
    ">By the way, the size of your training and validation splits are also parameters. Make sure you have a decent amount of data in your validation set or otherwise the validation performance will be noisy and not very informative."
   ]
  },
  {
   "cell_type": "markdown",
   "metadata": {},
   "source": [
    "## Checkpoint\n",
    "\n",
    "After training, we'll save the model so we can load it again later if we need too. Here I'm saving the parameters needed to create the same architecture, the hidden layer hyperparameters and the text characters."
   ]
  },
  {
   "cell_type": "code",
   "execution_count": 17,
   "metadata": {},
   "outputs": [],
   "source": [
    "# change the name, for saving multiple files\n",
    "model_name = 'rnn_x_epoch.net'\n",
    "\n",
    "checkpoint = {'n_hidden': net.n_hidden,\n",
    "              'n_layers': net.n_layers,\n",
    "              'state_dict': net.state_dict(),\n",
    "              'tokens': net.chars}\n",
    "\n",
    "with open(model_name, 'wb') as f:\n",
    "    torch.save(checkpoint, f)"
   ]
  },
  {
   "cell_type": "markdown",
   "metadata": {},
   "source": [
    "---\n",
    "## Making Predictions\n",
    "\n",
    "Now that the model is trained, we'll want to sample from it and make predictions about next characters! To sample, we pass in a character and have the network predict the next character. Then we take that character, pass it back in, and get another predicted character. Just keep doing this and you'll generate a bunch of text!\n",
    "\n",
    "### A note on the `predict`  function\n",
    "\n",
    "The output of our RNN is from a fully-connected layer and it outputs a **distribution of next-character scores**.\n",
    "\n",
    "> To actually get the next character, we apply a softmax function, which gives us a *probability* distribution that we can then sample to predict the next character.\n",
    "\n",
    "### Top K sampling\n",
    "\n",
    "Our predictions come from a categorical probability distribution over all the possible characters. We can make the sample text and make it more reasonable to handle (with less variables) by only considering some $K$ most probable characters. This will prevent the network from giving us completely absurd characters while allowing it to introduce some noise and randomness into the sampled text. Read more about [topk, here](https://pytorch.org/docs/stable/torch.html#torch.topk).\n"
   ]
  },
  {
   "cell_type": "code",
   "execution_count": 18,
   "metadata": {},
   "outputs": [],
   "source": [
    "def predict(net, char, h=None, top_k=None):\n",
    "        ''' Given a character, predict the next character.\n",
    "            Returns the predicted character and the hidden state.\n",
    "        '''\n",
    "        \n",
    "        # tensor inputs\n",
    "        x = np.array([[net.char2int[char]]])\n",
    "        x = one_hot_encode(x, len(net.chars))\n",
    "        inputs = torch.from_numpy(x)\n",
    "        \n",
    "        if(train_on_gpu):\n",
    "            inputs = inputs.cuda()\n",
    "        \n",
    "        # detach hidden state from history\n",
    "        h = tuple([each.data for each in h])\n",
    "        # get the output of the model\n",
    "        out, h = net(inputs, h)\n",
    "\n",
    "        # get the character probabilities\n",
    "        p = F.softmax(out, dim=1).data\n",
    "        if(train_on_gpu):\n",
    "            p = p.cpu() # move to cpu\n",
    "        \n",
    "        # get top characters\n",
    "        if top_k is None:\n",
    "            top_ch = np.arange(len(net.chars))\n",
    "        else:\n",
    "            p, top_ch = p.topk(top_k)\n",
    "            top_ch = top_ch.numpy().squeeze()\n",
    "        \n",
    "        # select the likely next character with some element of randomness\n",
    "        p = p.numpy().squeeze()\n",
    "        char = np.random.choice(top_ch, p=p/p.sum())\n",
    "        \n",
    "        # return the encoded value of the predicted char and the hidden state\n",
    "        return net.int2char[char], h"
   ]
  },
  {
   "cell_type": "markdown",
   "metadata": {},
   "source": [
    "### Priming and generating text \n",
    "\n",
    "Typically you'll want to prime the network so you can build up a hidden state. Otherwise the network will start out generating characters at random. In general the first bunch of characters will be a little rough since it hasn't built up a long history of characters to predict from."
   ]
  },
  {
   "cell_type": "code",
   "execution_count": 19,
   "metadata": {},
   "outputs": [],
   "source": [
    "def sample(net, size, prime='The', top_k=None):\n",
    "        \n",
    "    if(train_on_gpu):\n",
    "        net.cuda()\n",
    "    else:\n",
    "        net.cpu()\n",
    "    \n",
    "    net.eval() # eval mode\n",
    "    \n",
    "    # First off, run through the prime characters\n",
    "    chars = [ch for ch in prime]\n",
    "    h = net.init_hidden(1)\n",
    "    for ch in prime:\n",
    "        char, h = predict(net, ch, h, top_k=top_k)\n",
    "\n",
    "    chars.append(char)\n",
    "    \n",
    "    # Now pass in the previous character and get a new one\n",
    "    for ii in range(size):\n",
    "        char, h = predict(net, chars[-1], h, top_k=top_k)\n",
    "        chars.append(char)\n",
    "\n",
    "    return ''.join(chars)"
   ]
  },
  {
   "cell_type": "code",
   "execution_count": 20,
   "metadata": {},
   "outputs": [
    {
     "name": "stdout",
     "output_type": "stream",
     "text": [
      "Anna Anna\n",
      "Arkadyevna took an of the conversation as they always been than something of\n",
      "a land to him. He had the strighs of his house and with the matter in her success.\n",
      "\n",
      "\"Where hap the sendest while I say that's a step,\" thought Anna, having\n",
      "all studgoudly.\n",
      "\n",
      "\"That is the same?\" the point of her eyes saying she was new disconsection that\n",
      "to see him when they were not that those thought when\n",
      "he had no solition of answering their merchants were an innited\n",
      "by the patient of his bit, and to suppose, betan a position was that she\n",
      "had been distinctly saying that her man that her eyes said that he\n",
      "was strict that he came up, but she felt that it was a matter of his\n",
      "wife and said he had taken, and had a letter had to go away for\n",
      "the mustre. Sict of all the men the conversations that he did not any\n",
      "might have all at all these complete protretting was a little table, was in\n",
      "striking that his feeling of the children; who was sure in the capation\n",
      "who had talked to her attention on this communition of t\n"
     ]
    }
   ],
   "source": [
    "print(sample(net, 1000, prime='Anna', top_k=5))"
   ]
  },
  {
   "cell_type": "markdown",
   "metadata": {},
   "source": [
    "## Loading a checkpoint"
   ]
  },
  {
   "cell_type": "code",
   "execution_count": 21,
   "metadata": {},
   "outputs": [],
   "source": [
    "# Here we have loaded in a model that trained over 20 epochs `rnn_20_epoch.net`\n",
    "with open('rnn_x_epoch.net', 'rb') as f:\n",
    "    checkpoint = torch.load(f)\n",
    "    \n",
    "loaded = CharRNN(checkpoint['tokens'], n_hidden=checkpoint['n_hidden'], n_layers=checkpoint['n_layers'])\n",
    "loaded.load_state_dict(checkpoint['state_dict'])"
   ]
  },
  {
   "cell_type": "code",
   "execution_count": 22,
   "metadata": {},
   "outputs": [
    {
     "name": "stdout",
     "output_type": "stream",
     "text": [
      "And Levin said. She was\n",
      "the princess was a little to be surpledened to himself, and, and he was\n",
      "a sister was at her face of his wife.\n",
      "\n",
      "The mans had all seen the part was supper in which the doctor crissed that\n",
      "the director heard the courtesis and an old man with her feeling\n",
      "of delightful eyes to bring him, she would shall be so much only in sich\n",
      "and midere, which is to do in the course of a sundling. Show she shiped there\n",
      "to speak to her to the country and angoling fill of dinner, and the same\n",
      "servant of his brother had brought a bears of sole, and he was at the\n",
      "passion of his fingers of the propenty to the pain. To all the country arother\n",
      "the same of her could be that she had been so that he desired, he had\n",
      "not been better than his wife. But in this countess, he could be down of the\n",
      "pain in the dair, too that was nothing, when she was turning to to be a\n",
      "child's charmange, the same such principle and things in their\n",
      "peasants. And to herself had been so made a sersing on the country. He\n",
      "was already become on the parton, had set off at the delling sort\n",
      "of thoughts on the carriage. Her eyes of it, and she was stall to him, and was it a\n",
      "subfection with himself, and she shook obdious, but in the same simpers of her\n",
      "simply in this temper. To see him, he was thinking about their sack of all,\n",
      "she would come to his face, as he came into her eyes.\n",
      "\n",
      "\"And you know then the doctor.\"\n",
      "\n",
      "\"What can on a mushrooms, and here to be in love as the most lively and\n",
      "tee as the musches of the carriage, and he went in farthing; but that they\n",
      "did not allow him that he was the same age. That with his back is\n",
      "too things, will be the pain it with a sort of time to be\n",
      "abread for a beard-of most few months in the most astent to have been than\n",
      "strange the men. Why as the distunce would be the first side of menty\n",
      "of that manner throush of them. But there's nothing to be at the same. I\n",
      "went on all the sound of the same ountif of the month,\" said Anna.\n",
      "\n",
      "\"Oh, if I was a speciel, but I'm voices and so succeeful! If I h\n"
     ]
    }
   ],
   "source": [
    "# Sample using a loaded model\n",
    "print(sample(loaded, 2000, top_k=5, prime=\"And Levin said\"))"
   ]
  },
  {
   "cell_type": "code",
   "execution_count": null,
   "metadata": {},
   "outputs": [],
   "source": []
  },
  {
   "cell_type": "code",
   "execution_count": null,
   "metadata": {},
   "outputs": [],
   "source": []
  },
  {
   "cell_type": "code",
   "execution_count": null,
   "metadata": {},
   "outputs": [],
   "source": []
  },
  {
   "cell_type": "code",
   "execution_count": null,
   "metadata": {},
   "outputs": [],
   "source": []
  },
  {
   "cell_type": "code",
   "execution_count": null,
   "metadata": {},
   "outputs": [],
   "source": []
  },
  {
   "cell_type": "code",
   "execution_count": null,
   "metadata": {},
   "outputs": [],
   "source": []
  },
  {
   "cell_type": "code",
   "execution_count": null,
   "metadata": {},
   "outputs": [],
   "source": []
  },
  {
   "cell_type": "code",
   "execution_count": null,
   "metadata": {},
   "outputs": [],
   "source": []
  },
  {
   "cell_type": "code",
   "execution_count": null,
   "metadata": {},
   "outputs": [],
   "source": []
  },
  {
   "cell_type": "code",
   "execution_count": null,
   "metadata": {},
   "outputs": [],
   "source": []
  }
 ],
 "metadata": {
  "kernelspec": {
   "display_name": "Python 3",
   "language": "python",
   "name": "python3"
  },
  "language_info": {
   "codemirror_mode": {
    "name": "ipython",
    "version": 3
   },
   "file_extension": ".py",
   "mimetype": "text/x-python",
   "name": "python",
   "nbconvert_exporter": "python",
   "pygments_lexer": "ipython3",
   "version": "3.6.3"
  }
 },
 "nbformat": 4,
 "nbformat_minor": 2
}
